{
 "cells": [
  {
   "cell_type": "markdown",
   "metadata": {},
   "source": [
    "#### Разметка данных."
   ]
  },
  {
   "cell_type": "code",
   "execution_count": 18,
   "metadata": {},
   "outputs": [],
   "source": [
    "import numpy as np\n",
    "from scipy.stats import norm, t, chi2\n",
    "import pandas as pd"
   ]
  },
  {
   "cell_type": "code",
   "execution_count": 19,
   "metadata": {},
   "outputs": [],
   "source": [
    "# Заданные параметры\n",
    "mu = 1.5\n",
    "sigma = 3\n",
    "n = 1000\n",
    "confidence_level = 0.95  # Уровень доверия 95%\n",
    "alpha = 0.05\n",
    "\n",
    "# Генерируем выборку с гауссовским распределением\n",
    "np.random.seed(0)  # Для воспроизводимости результатов\n",
    "sample = np.random.normal(mu, sigma, n)\n",
    "\n",
    "# Вычисляем среднее и стандартную ошибку среднего\n",
    "sample_mean = np.mean(sample)\n",
    "standard_error = sigma / np.sqrt(n)"
   ]
  },
  {
   "cell_type": "markdown",
   "metadata": {},
   "source": [
    "#### 1.\tДоверительный интервал для оценки математического ожидания нормального распределения при известной дисперсии."
   ]
  },
  {
   "cell_type": "code",
   "execution_count": 20,
   "metadata": {},
   "outputs": [
    {
     "name": "stdout",
     "output_type": "stream",
     "text": [
      "Доверительный интервал (95.0%):\n",
      "Нижняя граница: 1.1783\n",
      "Верхняя граница: 1.5502\n"
     ]
    }
   ],
   "source": [
    "# Вычисляем Z-значение для заданного уровня доверия\n",
    "z = norm.ppf((1 + confidence_level) / 2)\n",
    "\n",
    "# Вычисляем доверительный интервал\n",
    "int1_left = sample_mean - z * standard_error\n",
    "int1_right = sample_mean + z * standard_error\n",
    "\n",
    "print(f\"Доверительный интервал ({confidence_level * 100}%):\")\n",
    "print(f\"Нижняя граница: {int1_left:.4f}\")\n",
    "print(f\"Верхняя граница: {int1_right:.4f}\")"
   ]
  },
  {
   "cell_type": "markdown",
   "metadata": {},
   "source": [
    "#### 2.\tДоверительный интервал для оценки математического ожидания нормального распределения при неизвестной дисперсии."
   ]
  },
  {
   "cell_type": "code",
   "execution_count": 21,
   "metadata": {},
   "outputs": [
    {
     "name": "stdout",
     "output_type": "stream",
     "text": [
      "Доверительный интервал (95.0%):\n",
      "Нижняя граница: 1.1804\n",
      "Верхняя граница: 1.5481\n"
     ]
    }
   ],
   "source": [
    "# Вычисляем среднее и выборочное стандартное отклонение\n",
    "sample_mean = np.mean(sample)\n",
    "sample_std = np.std(sample, ddof=1)  # ddof=1 для несмещенной оценки дисперсии\n",
    "\n",
    "# Вычисляем t-значение для заданного уровня доверия и степеней свободы (n-1)\n",
    "t_value = t.ppf((1 + confidence_level) / 2, df=n - 1)\n",
    "\n",
    "# Вычисляем доверительный интервал\n",
    "int2_left = sample_mean - t_value * (sample_std / np.sqrt(n))\n",
    "int2_right = sample_mean + t_value * (sample_std / np.sqrt(n))\n",
    "\n",
    "print(f\"Доверительный интервал ({confidence_level * 100}%):\")\n",
    "print(f\"Нижняя граница: {int2_left:.4f}\")\n",
    "print(f\"Верхняя граница: {int2_right:.4f}\")"
   ]
  },
  {
   "cell_type": "markdown",
   "metadata": {},
   "source": [
    "#### 3.\tДоверительный интервал для дисперсии нормальной случайной величины при известном математическом ожидании."
   ]
  },
  {
   "cell_type": "code",
   "execution_count": 22,
   "metadata": {},
   "outputs": [
    {
     "name": "stdout",
     "output_type": "stream",
     "text": [
      "Доверительный интервал для дисперсии (95.0%):\n",
      "Нижняя граница: 8.0473\n",
      "Верхняя граница: 9.5909\n"
     ]
    }
   ],
   "source": [
    "# Вычисляем выборочную дисперсию\n",
    "sample_variance = np.var(sample, ddof=0)  # ddof=0, так как дисперсия известна\n",
    "\n",
    "# Находим квантили хи-квадрат распределения\n",
    "lower_quantile = chi2.ppf(alpha / 2, df=n - 1)\n",
    "upper_quantile = chi2.ppf(1 - alpha / 2, df=n - 1)\n",
    "\n",
    "# Вычисляем доверительный интервал для дисперсии\n",
    "int3_left = (n - 1) * sample_variance / upper_quantile\n",
    "int3_right = (n - 1) * sample_variance / lower_quantile\n",
    "\n",
    "print(f\"Доверительный интервал для дисперсии ({(1-alpha) * 100}%):\")\n",
    "print(f\"Нижняя граница: {int3_left:.4f}\")\n",
    "print(f\"Верхняя граница: {int3_right:.4f}\")"
   ]
  },
  {
   "cell_type": "markdown",
   "metadata": {},
   "source": [
    "#### 4.\tДоверительный интервал для дисперсии нормальной случайной величины при неизвестном математическом ожидании."
   ]
  },
  {
   "cell_type": "code",
   "execution_count": 23,
   "metadata": {},
   "outputs": [
    {
     "name": "stdout",
     "output_type": "stream",
     "text": [
      "Доверительный интервал для дисперсии (95.0%):\n",
      "Нижняя граница: 8.0553\n",
      "Верхняя граница: 9.6005\n"
     ]
    }
   ],
   "source": [
    "sample_variance = np.var(sample, ddof=1)  # ddof=1 для несмещенной оценки дисперсии\n",
    "\n",
    "# Находим квантили хи-квадрат распределения\n",
    "lower_quantile = chi2.ppf(alpha / 2, df=n - 1)\n",
    "upper_quantile = chi2.ppf(1 - alpha / 2, df=n - 1)\n",
    "\n",
    "# Вычисляем доверительный интервал для дисперсии\n",
    "int4_left = (n - 1) * sample_variance / upper_quantile\n",
    "int4_right = (n - 1) * sample_variance / lower_quantile\n",
    "\n",
    "print(f\"Доверительный интервал для дисперсии ({(1-alpha) * 100}%):\")\n",
    "print(f\"Нижняя граница: {int4_left:.4f}\")\n",
    "print(f\"Верхняя граница: {int4_right:.4f}\")"
   ]
  },
  {
   "cell_type": "markdown",
   "metadata": {},
   "source": [
    "5. Эксперимент."
   ]
  },
  {
   "cell_type": "code",
   "execution_count": 24,
   "metadata": {},
   "outputs": [
    {
     "name": "stdout",
     "output_type": "stream",
     "text": [
      "num1_1000: 0.68500\n",
      "num2_1000: 0.66500\n",
      "num3_1000: 0.92000\n",
      "num4_1000: 0.92000\n"
     ]
    }
   ],
   "source": [
    "import numpy as np\n",
    "\n",
    "# Заданные параметры\n",
    "mu = 1.5\n",
    "sigma = 3\n",
    "n_samples = 200\n",
    "sample_size = 1000\n",
    "alpha = 0.05  # Уровень доверия 95%\n",
    "\n",
    "num1_1000 = 0\n",
    "num2_1000 = 0\n",
    "num3_1000 = 0\n",
    "num4_1000 = 0\n",
    "\n",
    "for i in range(n_samples):\n",
    "    data1000 = np.random.normal(mu, sigma, sample_size)\n",
    "    mean1000 = np.mean(data1000)\n",
    "    var1000 = np.var(data1000, ddof=1)  # ddof=1 для несмещенной оценки дисперсии\n",
    "\n",
    "    if int1_left <= mean1000 <= int1_right:\n",
    "        num1_1000 += 1 / n_samples\n",
    "\n",
    "    if int2_left <= mean1000 <= int2_right:\n",
    "        num2_1000 += 1 / n_samples\n",
    "\n",
    "    if int3_left <= var1000 <= int3_right:\n",
    "        num3_1000 += 1 / n_samples\n",
    "\n",
    "    if int4_left <= var1000 <= int4_right:\n",
    "        num4_1000 += 1 / n_samples\n",
    "\n",
    "print(f\"num1_1000: {num1_1000:.5f}\")\n",
    "print(f\"num2_1000: {num2_1000:.5f}\")\n",
    "print(f\"num3_1000: {num3_1000:.5f}\")\n",
    "print(f\"num4_1000: {num4_1000:.5f}\")"
   ]
  },
  {
   "cell_type": "code",
   "execution_count": 32,
   "metadata": {},
   "outputs": [],
   "source": [
    "data = pd.read_csv(\"data_mathstat.csv\", delimiter=\" \", header=None)\n",
    "porosity = data[0]\n",
    "gamma_ray = data[1]"
   ]
  },
  {
   "cell_type": "code",
   "execution_count": 33,
   "metadata": {},
   "outputs": [
    {
     "name": "stdout",
     "output_type": "stream",
     "text": [
      "Доверительный интервал с уровнем доверия 95.0%: (82.15363879816843, 98.35306390453428)\n"
     ]
    }
   ],
   "source": [
    "# Вычислите среднее значение и стандартное отклонение выборки\n",
    "mean = np.mean(gamma_ray)\n",
    "std_dev = np.std(gamma_ray, ddof=1)  # исправленное стандартное отклонение\n",
    "\n",
    "# Вычислите стандартную ошибку среднего\n",
    "standard_error = std_dev / np.sqrt(len(gamma_ray))\n",
    "\n",
    "# Вычислите критическое значение t для заданного уровня доверия и степеней свободы\n",
    "degrees_of_freedom = len(gamma_ray) - 1\n",
    "t_value = t.ppf((1 + confidence_level) / 2, degrees_of_freedom)\n",
    "\n",
    "# Вычислите доверительный интервал\n",
    "margin_of_error = t_value * standard_error\n",
    "confidence_interval = (mean - margin_of_error, mean + margin_of_error)\n",
    "\n",
    "print(f\"Доверительный интервал с уровнем доверия {confidence_level * 100}%: {confidence_interval}\")"
   ]
  },
  {
   "cell_type": "code",
   "execution_count": 34,
   "metadata": {},
   "outputs": [
    {
     "name": "stdout",
     "output_type": "stream",
     "text": [
      "Доверительный интервал для дисперсии с уровнем доверия 95.0%: (390.2750170551559, 995.7646062128198)\n"
     ]
    }
   ],
   "source": [
    "confidence_level = 0.95\n",
    "\n",
    "# Вычислите оценку дисперсии\n",
    "sample_variance = np.var(gamma_ray, ddof=1)\n",
    "\n",
    "# Вычислите критические значения хи-квадрат для интервала (0, 1-confidence_level)\n",
    "degrees_of_freedom = len(gamma_ray) - 1\n",
    "chi2_lower = chi2.ppf((1 - confidence_level) / 2, degrees_of_freedom)\n",
    "chi2_upper = chi2.ppf((1 + confidence_level) / 2, degrees_of_freedom)\n",
    "\n",
    "# Вычислите доверительный интервал для дисперсии\n",
    "confidence_interval = (\n",
    "    (degrees_of_freedom * sample_variance) / chi2_upper,\n",
    "    (degrees_of_freedom * sample_variance) / chi2_lower\n",
    ")\n",
    "\n",
    "print(f\"Доверительный интервал для дисперсии с уровнем доверия {confidence_level * 100}%: {confidence_interval}\")"
   ]
  }
 ],
 "metadata": {
  "kernelspec": {
   "display_name": "Python 3",
   "language": "python",
   "name": "python3"
  },
  "language_info": {
   "codemirror_mode": {
    "name": "ipython",
    "version": 3
   },
   "file_extension": ".py",
   "mimetype": "text/x-python",
   "name": "python",
   "nbconvert_exporter": "python",
   "pygments_lexer": "ipython3",
   "version": "3.10.11"
  }
 },
 "nbformat": 4,
 "nbformat_minor": 2
}
